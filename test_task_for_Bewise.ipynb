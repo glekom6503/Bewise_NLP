{
 "cells": [
  {
   "cell_type": "code",
   "execution_count": 1,
   "id": "4a3a2967",
   "metadata": {},
   "outputs": [
    {
     "name": "stderr",
     "output_type": "stream",
     "text": [
      "[nltk_data] Downloading package punkt to\n",
      "[nltk_data]     C:\\Users\\gleko\\AppData\\Roaming\\nltk_data...\n",
      "[nltk_data]   Package punkt is already up-to-date!\n",
      "[nltk_data] Downloading package stopwords to\n",
      "[nltk_data]     C:\\Users\\gleko\\AppData\\Roaming\\nltk_data...\n",
      "[nltk_data]   Package stopwords is already up-to-date!\n"
     ]
    }
   ],
   "source": [
    "import numpy as np\n",
    "import pandas as pd\n",
    "import nltk\n",
    "nltk.download('punkt')\n",
    "nltk.download(\"stopwords\")\n",
    "import re\n",
    "import ru_core_news_md ### чтобы установить нужна команда python -m spacy download ru_core_news_md\n",
    "from nltk.stem.snowball import SnowballStemmer "
   ]
  },
  {
   "cell_type": "markdown",
   "id": "48d434cf",
   "metadata": {},
   "source": [
    "<b> Считаем данные для парсинга"
   ]
  },
  {
   "cell_type": "code",
   "execution_count": 2,
   "id": "f02595ef",
   "metadata": {},
   "outputs": [],
   "source": [
    "df = pd.read_csv('test_data.csv')"
   ]
  },
  {
   "cell_type": "markdown",
   "id": "fe37909e",
   "metadata": {},
   "source": [
    "<b> Возьмём стоп-слова из библиотеки NLTK для предобработки текста для использования в моделях"
   ]
  },
  {
   "cell_type": "code",
   "execution_count": 3,
   "id": "b76dac0e",
   "metadata": {},
   "outputs": [
    {
     "name": "stderr",
     "output_type": "stream",
     "text": [
      "[nltk_data] Downloading package stopwords to\n",
      "[nltk_data]     C:\\Users\\gleko\\AppData\\Roaming\\nltk_data...\n",
      "[nltk_data]   Package stopwords is already up-to-date!\n"
     ]
    }
   ],
   "source": [
    "nlp = ru_core_news_md.load()\n",
    "nltk.download(\"stopwords\")\n",
    "from nltk.corpus import stopwords\n",
    "russian_stopwords = stopwords.words(\"russian\")\n"
   ]
  },
  {
   "cell_type": "markdown",
   "id": "bc48bf60",
   "metadata": {},
   "source": [
    "<b> Создадим функции токенизации, лемматизации и очистки текста от лишних слов и знаков"
   ]
  },
  {
   "cell_type": "code",
   "execution_count": 4,
   "id": "491010f2",
   "metadata": {},
   "outputs": [],
   "source": [
    "def tokenize(text_to_tokenize):\n",
    "    return nlp(text_to_tokenize)"
   ]
  },
  {
   "cell_type": "code",
   "execution_count": 5,
   "id": "da57dfa7",
   "metadata": {},
   "outputs": [],
   "source": [
    "def lemmatize(tokens):\n",
    "    return [token.lemma_ for token in tokens]"
   ]
  },
  {
   "cell_type": "markdown",
   "id": "23acfaa4",
   "metadata": {},
   "source": [
    "<b> Для очистки текст будет переведён в нижний регистр, удалены специальные символы, многократные пробелы, стопслова."
   ]
  },
  {
   "cell_type": "code",
   "execution_count": 6,
   "id": "fe210575",
   "metadata": {},
   "outputs": [],
   "source": [
    "def text_cleaner(text_to_clean):\n",
    "    text_to_clean = text_to_clean.lower()\n",
    "    text_to_clean = re.sub('[!@#$1234567890.,+-:;\\/<>*&?%№`~|]', '', text_to_clean)\n",
    "    text_to_clean = re.sub('\\s+',' ',text_to_clean)\n",
    "    \n",
    "    russian_stopwords = stopwords.words(\"russian\")\n",
    "    words = text_to_clean.split()\n",
    "    \n",
    "    words = [word for word in words if word not in russian_stopwords]\n",
    "    text_to_clean = ' '.join(words)\n",
    "    return text_to_clean"
   ]
  },
  {
   "cell_type": "markdown",
   "id": "74411b51",
   "metadata": {},
   "source": [
    "<b> Создадим функции преобразующие список слов в bag of words и текст в bag of words."
   ]
  },
  {
   "cell_type": "code",
   "execution_count": 7,
   "id": "55dfd752",
   "metadata": {},
   "outputs": [],
   "source": [
    "def bag_of_words(list_to_bow, all_words_greetings):\n",
    "    bow = [0]*len(all_words_greetings)\n",
    "    \n",
    "    for word in list_to_bow:\n",
    "        if word in all_words_greetings:\n",
    "            index_of_word = all_words_greetings.index(word)\n",
    "            bow[index_of_word] = 1\n",
    "    return bow"
   ]
  },
  {
   "cell_type": "code",
   "execution_count": 8,
   "id": "6f2b7a81",
   "metadata": {},
   "outputs": [],
   "source": [
    "def text_to_bow(text_to_bow, all_words_greetings):\n",
    "    text_to_bow = text_cleaner(text_to_bow)\n",
    "    text_to_bow_tokens = tokenize(text_to_bow)\n",
    "    text_to_bow_lemmas = lemmatize(text_to_bow_tokens)\n",
    "    text_to_bow_lemmas = list(set([stemmer.stem(word) for word in text_to_bow_lemmas]))\n",
    "    \n",
    "    bow = bag_of_words(text_to_bow_lemmas, all_words_greetings)\n",
    "    return bow"
   ]
  },
  {
   "cell_type": "markdown",
   "id": "9e18a5f7",
   "metadata": {},
   "source": [
    "<b> Составим вручную примеры прощаний, приветствий и реплик для создания обучающей выборки для решения задачи классификации приветствий и прощаний."
   ]
  },
  {
   "cell_type": "code",
   "execution_count": 9,
   "id": "ae15dd1d",
   "metadata": {},
   "outputs": [],
   "source": [
    "greetings_examples = ['добрый день', 'добрый вечер', 'доброе утро',\n",
    "                      'приветствую', 'здравствуйте', 'доброго времени суток',\n",
    "                      'привет']\n",
    "\n",
    "### тексты с примерами ниже написаны руками. не из test-data.csv :)\n",
    "# not_greetings_examples - примеры обычных реплик, которые не относятся ни к классу приветсвий, ни к классу прощаний\n",
    "not_greetings_examples = ['если уделите минуту я вам расскажу подробнее',\n",
    "                          'вас интересует данное предложение?', 'зафиксировали информацию',\n",
    "                          'мы учтем ваши пожелания', 'в какое время вам удобнее, чтобы мы перезвонили?',\n",
    "                          'вам удобно разговаривать?', 'Отправили вам информацию', 'Да, всё верно', 'Хотим получить от вас обратную связь']\n",
    "\n",
    "byes_examples = ['До свидания', 'Всего доброго', 'Всего наилучшего', 'Хорошего вечера', \"До связи\"]\n"
   ]
  },
  {
   "cell_type": "markdown",
   "id": "14f8438f",
   "metadata": {},
   "source": [
    "<b> Создадим словарь всех слов из обучающей выборки и приведём их к виду списка стемматизированных лемм"
   ]
  },
  {
   "cell_type": "code",
   "execution_count": 10,
   "id": "b2b9eab7",
   "metadata": {},
   "outputs": [],
   "source": [
    "stemmer = SnowballStemmer(\"russian\")"
   ]
  },
  {
   "cell_type": "code",
   "execution_count": 11,
   "id": "9bda9093",
   "metadata": {},
   "outputs": [],
   "source": [
    "def replicas_list_to_unique_lemmas_list(replicas):\n",
    "    clean_text = text_cleaner(' '.join(replicas))    \n",
    "    lemmas = lemmatize(tokenize(clean_text))\n",
    "    unique_lemmas = list(set([stemmer.stem(word) for word in lemmas]))\n",
    "    \n",
    "    return unique_lemmas"
   ]
  },
  {
   "cell_type": "code",
   "execution_count": 12,
   "id": "146c5b69",
   "metadata": {},
   "outputs": [],
   "source": [
    "all_words_greetings = replicas_list_to_unique_lemmas_list(greetings_examples + not_greetings_examples)\n",
    "all_words_byes = replicas_list_to_unique_lemmas_list(byes_examples + not_greetings_examples)"
   ]
  },
  {
   "cell_type": "markdown",
   "id": "be3c37ff",
   "metadata": {},
   "source": [
    "<b> Получим реплики менеджеров"
   ]
  },
  {
   "cell_type": "code",
   "execution_count": 13,
   "id": "922783fd",
   "metadata": {},
   "outputs": [],
   "source": [
    "managers_replicas = df[df['role'] == 'manager'].reset_index(drop = True)"
   ]
  },
  {
   "cell_type": "markdown",
   "id": "aa3a96da",
   "metadata": {},
   "source": [
    "<b> Создадим обучающую выборку для классификации приветствий"
   ]
  },
  {
   "cell_type": "code",
   "execution_count": 14,
   "id": "41964d30",
   "metadata": {},
   "outputs": [],
   "source": [
    "classes_greet_train = np.concatenate((np.ones(len(greetings_examples)), np.zeros(len(not_greetings_examples))), axis=0)"
   ]
  },
  {
   "cell_type": "markdown",
   "id": "ec97c408",
   "metadata": {},
   "source": [
    "<b> Получим bag of words для обучающей выборки"
   ]
  },
  {
   "cell_type": "code",
   "execution_count": 15,
   "id": "a69ee54b",
   "metadata": {},
   "outputs": [],
   "source": [
    "train_greet_bows = []\n",
    "for replica in greetings_examples + not_greetings_examples:\n",
    "    replica_bow = text_to_bow(replica, all_words_greetings)\n",
    "    train_greet_bows.append(replica_bow)"
   ]
  },
  {
   "cell_type": "markdown",
   "id": "df9f9f46",
   "metadata": {},
   "source": [
    "<b> Создадим DataFrame для удобства при обращении к тестовой выборке"
   ]
  },
  {
   "cell_type": "code",
   "execution_count": 16,
   "id": "01df1793",
   "metadata": {},
   "outputs": [],
   "source": [
    "df_train_greet = pd.DataFrame(data = np.array(train_greet_bows))"
   ]
  },
  {
   "cell_type": "code",
   "execution_count": 17,
   "id": "c3abe1ee",
   "metadata": {},
   "outputs": [],
   "source": [
    "df_train_greet['class'] = classes_greet_train\n",
    "df_train_greet['text'] = greetings_examples + not_greetings_examples"
   ]
  },
  {
   "cell_type": "markdown",
   "id": "721bc74d",
   "metadata": {},
   "source": [
    "<b> Перемешаем строки в DataFrame, чтобы классы в обучающей выборке шли вразнобой"
   ]
  },
  {
   "cell_type": "code",
   "execution_count": 18,
   "id": "45730ad1",
   "metadata": {},
   "outputs": [],
   "source": [
    "df_train_greet = df_train_greet.sample(frac=1).reset_index(drop=True)"
   ]
  },
  {
   "cell_type": "markdown",
   "id": "ed27fbff",
   "metadata": {},
   "source": [
    "<b> Получим таблицу признаков и столбец целевой переменной (класса приветсвие - класс \"1\", не приветсвие - класс \"0\")."
   ]
  },
  {
   "cell_type": "code",
   "execution_count": 19,
   "id": "d95ab4ea",
   "metadata": {},
   "outputs": [],
   "source": [
    "X_train_greetings = df_train_greet.drop(['class', 'text'], axis = 1)"
   ]
  },
  {
   "cell_type": "code",
   "execution_count": 20,
   "id": "f36be579",
   "metadata": {},
   "outputs": [],
   "source": [
    "y_train_greetings = df_train_greet['class']"
   ]
  },
  {
   "cell_type": "markdown",
   "id": "0f1b451e",
   "metadata": {},
   "source": [
    "<b> Создадим обучающую выборку для прощаний. Порядок действий аналогичный."
   ]
  },
  {
   "cell_type": "code",
   "execution_count": 21,
   "id": "794d4eff",
   "metadata": {},
   "outputs": [],
   "source": [
    "classes_byes_train = np.concatenate((np.ones(len(byes_examples)), np.zeros(len(not_greetings_examples))), axis=0)"
   ]
  },
  {
   "cell_type": "code",
   "execution_count": 22,
   "id": "9d166abd",
   "metadata": {},
   "outputs": [],
   "source": [
    "train_byes_bows = []\n",
    "for replica in byes_examples + not_greetings_examples:\n",
    "    replica_bow = text_to_bow(replica, all_words_byes)\n",
    "    train_byes_bows.append(replica_bow)"
   ]
  },
  {
   "cell_type": "code",
   "execution_count": 23,
   "id": "4729357e",
   "metadata": {},
   "outputs": [],
   "source": [
    "df_train_byes = pd.DataFrame(data = np.array(train_byes_bows))"
   ]
  },
  {
   "cell_type": "code",
   "execution_count": 24,
   "id": "342f6cac",
   "metadata": {},
   "outputs": [],
   "source": [
    "df_train_byes['class'] = classes_byes_train\n",
    "df_train_byes['text'] = byes_examples + not_greetings_examples"
   ]
  },
  {
   "cell_type": "code",
   "execution_count": 25,
   "id": "9dbc1d3a",
   "metadata": {},
   "outputs": [],
   "source": [
    "df_train_byes = df_train_byes.sample(frac=1).reset_index(drop=True)"
   ]
  },
  {
   "cell_type": "code",
   "execution_count": 26,
   "id": "e9866409",
   "metadata": {},
   "outputs": [],
   "source": [
    "X_train_byes = df_train_byes.drop(['class', 'text'], axis = 1)\n",
    "y_train_byes = df_train_byes['class']"
   ]
  },
  {
   "cell_type": "markdown",
   "id": "cf143833",
   "metadata": {},
   "source": [
    "<b> Импортируем модель классификатора логистической регрессии со стандартными параметрами с L-2 регуляризацией и коэффициентом регуляризации C = 1"
   ]
  },
  {
   "cell_type": "code",
   "execution_count": 27,
   "id": "f941167e",
   "metadata": {},
   "outputs": [],
   "source": [
    "from sklearn.linear_model import LogisticRegression\n",
    "\n",
    "clf = LogisticRegression()"
   ]
  },
  {
   "cell_type": "markdown",
   "id": "3b8500be",
   "metadata": {},
   "source": [
    "<b> Возьмём начальные и конечные реплики в качестве тестовой выборки для получения реплик приветствия и прощания"
   ]
  },
  {
   "cell_type": "code",
   "execution_count": 28,
   "id": "5036307c",
   "metadata": {},
   "outputs": [],
   "source": [
    "start_replicas_df = pd.DataFrame(columns = managers_replicas.columns)\n",
    "for i in managers_replicas['dlg_id'].unique():\n",
    "    start_replicas_df = pd.concat([start_replicas_df, managers_replicas.groupby('dlg_id', as_index=False).get_group(i).head(3)])"
   ]
  },
  {
   "cell_type": "code",
   "execution_count": 29,
   "id": "03ffd030",
   "metadata": {},
   "outputs": [],
   "source": [
    "start_replicas_df.reset_index(drop = True, inplace = True)"
   ]
  },
  {
   "cell_type": "code",
   "execution_count": 30,
   "id": "3854a1a2",
   "metadata": {},
   "outputs": [],
   "source": [
    "end_replicas_df = pd.DataFrame(columns = managers_replicas.columns)\n",
    "for i in managers_replicas['dlg_id'].unique():\n",
    "    end_replicas_df = pd.concat([end_replicas_df, managers_replicas.groupby('dlg_id', as_index=False).get_group(i).tail(3)])"
   ]
  },
  {
   "cell_type": "code",
   "execution_count": 31,
   "id": "65aaf4c6",
   "metadata": {},
   "outputs": [],
   "source": [
    "end_replicas_df.reset_index(drop = True, inplace = True)"
   ]
  },
  {
   "cell_type": "markdown",
   "id": "3df028d2",
   "metadata": {},
   "source": [
    "<b> Создадим список индексов реплик приветствий и прощания, отобранные вручную, для построений метрик качества классификаторов</b> "
   ]
  },
  {
   "cell_type": "code",
   "execution_count": 32,
   "id": "f3879531",
   "metadata": {},
   "outputs": [],
   "source": [
    "ind_of_greet_true = [0, 3, 6, 9, 10]\n",
    "ind_of_byes_true = [2, 4, 5, 11, 14, 17]"
   ]
  },
  {
   "cell_type": "markdown",
   "id": "a7f3f30a",
   "metadata": {},
   "source": [
    "<b> Создадим тестовую выборку для прощаний и приветствий в виде таблицы признаков, где каждый столбец - это компонент в bag of words по словарю из соответствующих примеров. Также сохраним номер диалога"
   ]
  },
  {
   "cell_type": "code",
   "execution_count": 33,
   "id": "0c575a33",
   "metadata": {},
   "outputs": [],
   "source": [
    "test_bows_greetings = []\n",
    "test_dlg_ids_g = []\n",
    "def test_greetings(row):\n",
    "    test_bows_greetings.append(text_to_bow(row['text'], all_words_greetings))\n",
    "    test_dlg_ids_g.append(row['dlg_id'])\n",
    "start_replicas_df.apply(lambda row: test_greetings(row), axis=1)\n",
    "\n",
    "test_bows_byes = []\n",
    "test_dlg_ids_b = []\n",
    "def test_byes(row):\n",
    "    test_bows_byes.append(text_to_bow(row['text'], all_words_byes))\n",
    "    test_dlg_ids_b.append(row['dlg_id'])\n",
    "end_replicas_df.apply(lambda row: test_byes(row), axis=1);"
   ]
  },
  {
   "cell_type": "markdown",
   "id": "e6faa91a",
   "metadata": {},
   "source": [
    "<b> Обучим классификатор для приветствий, сделаем прогноз для тестовой выборки и выведем прогнозируемые классификатором реплики приветствия"
   ]
  },
  {
   "cell_type": "code",
   "execution_count": 34,
   "id": "57549db3",
   "metadata": {},
   "outputs": [
    {
     "data": {
      "text/html": [
       "<style>#sk-container-id-1 {color: black;background-color: white;}#sk-container-id-1 pre{padding: 0;}#sk-container-id-1 div.sk-toggleable {background-color: white;}#sk-container-id-1 label.sk-toggleable__label {cursor: pointer;display: block;width: 100%;margin-bottom: 0;padding: 0.3em;box-sizing: border-box;text-align: center;}#sk-container-id-1 label.sk-toggleable__label-arrow:before {content: \"▸\";float: left;margin-right: 0.25em;color: #696969;}#sk-container-id-1 label.sk-toggleable__label-arrow:hover:before {color: black;}#sk-container-id-1 div.sk-estimator:hover label.sk-toggleable__label-arrow:before {color: black;}#sk-container-id-1 div.sk-toggleable__content {max-height: 0;max-width: 0;overflow: hidden;text-align: left;background-color: #f0f8ff;}#sk-container-id-1 div.sk-toggleable__content pre {margin: 0.2em;color: black;border-radius: 0.25em;background-color: #f0f8ff;}#sk-container-id-1 input.sk-toggleable__control:checked~div.sk-toggleable__content {max-height: 200px;max-width: 100%;overflow: auto;}#sk-container-id-1 input.sk-toggleable__control:checked~label.sk-toggleable__label-arrow:before {content: \"▾\";}#sk-container-id-1 div.sk-estimator input.sk-toggleable__control:checked~label.sk-toggleable__label {background-color: #d4ebff;}#sk-container-id-1 div.sk-label input.sk-toggleable__control:checked~label.sk-toggleable__label {background-color: #d4ebff;}#sk-container-id-1 input.sk-hidden--visually {border: 0;clip: rect(1px 1px 1px 1px);clip: rect(1px, 1px, 1px, 1px);height: 1px;margin: -1px;overflow: hidden;padding: 0;position: absolute;width: 1px;}#sk-container-id-1 div.sk-estimator {font-family: monospace;background-color: #f0f8ff;border: 1px dotted black;border-radius: 0.25em;box-sizing: border-box;margin-bottom: 0.5em;}#sk-container-id-1 div.sk-estimator:hover {background-color: #d4ebff;}#sk-container-id-1 div.sk-parallel-item::after {content: \"\";width: 100%;border-bottom: 1px solid gray;flex-grow: 1;}#sk-container-id-1 div.sk-label:hover label.sk-toggleable__label {background-color: #d4ebff;}#sk-container-id-1 div.sk-serial::before {content: \"\";position: absolute;border-left: 1px solid gray;box-sizing: border-box;top: 0;bottom: 0;left: 50%;z-index: 0;}#sk-container-id-1 div.sk-serial {display: flex;flex-direction: column;align-items: center;background-color: white;padding-right: 0.2em;padding-left: 0.2em;position: relative;}#sk-container-id-1 div.sk-item {position: relative;z-index: 1;}#sk-container-id-1 div.sk-parallel {display: flex;align-items: stretch;justify-content: center;background-color: white;position: relative;}#sk-container-id-1 div.sk-item::before, #sk-container-id-1 div.sk-parallel-item::before {content: \"\";position: absolute;border-left: 1px solid gray;box-sizing: border-box;top: 0;bottom: 0;left: 50%;z-index: -1;}#sk-container-id-1 div.sk-parallel-item {display: flex;flex-direction: column;z-index: 1;position: relative;background-color: white;}#sk-container-id-1 div.sk-parallel-item:first-child::after {align-self: flex-end;width: 50%;}#sk-container-id-1 div.sk-parallel-item:last-child::after {align-self: flex-start;width: 50%;}#sk-container-id-1 div.sk-parallel-item:only-child::after {width: 0;}#sk-container-id-1 div.sk-dashed-wrapped {border: 1px dashed gray;margin: 0 0.4em 0.5em 0.4em;box-sizing: border-box;padding-bottom: 0.4em;background-color: white;}#sk-container-id-1 div.sk-label label {font-family: monospace;font-weight: bold;display: inline-block;line-height: 1.2em;}#sk-container-id-1 div.sk-label-container {text-align: center;}#sk-container-id-1 div.sk-container {/* jupyter's `normalize.less` sets `[hidden] { display: none; }` but bootstrap.min.css set `[hidden] { display: none !important; }` so we also need the `!important` here to be able to override the default hidden behavior on the sphinx rendered scikit-learn.org. See: https://github.com/scikit-learn/scikit-learn/issues/21755 */display: inline-block !important;position: relative;}#sk-container-id-1 div.sk-text-repr-fallback {display: none;}</style><div id=\"sk-container-id-1\" class=\"sk-top-container\"><div class=\"sk-text-repr-fallback\"><pre>LogisticRegression()</pre><b>In a Jupyter environment, please rerun this cell to show the HTML representation or trust the notebook. <br />On GitHub, the HTML representation is unable to render, please try loading this page with nbviewer.org.</b></div><div class=\"sk-container\" hidden><div class=\"sk-item\"><div class=\"sk-estimator sk-toggleable\"><input class=\"sk-toggleable__control sk-hidden--visually\" id=\"sk-estimator-id-1\" type=\"checkbox\" checked><label for=\"sk-estimator-id-1\" class=\"sk-toggleable__label sk-toggleable__label-arrow\">LogisticRegression</label><div class=\"sk-toggleable__content\"><pre>LogisticRegression()</pre></div></div></div></div></div>"
      ],
      "text/plain": [
       "LogisticRegression()"
      ]
     },
     "execution_count": 34,
     "metadata": {},
     "output_type": "execute_result"
    }
   ],
   "source": [
    "clf.fit(X_train_greetings, y_train_greetings)"
   ]
  },
  {
   "cell_type": "code",
   "execution_count": 35,
   "id": "41be35bf",
   "metadata": {},
   "outputs": [],
   "source": [
    "greetings_predict = clf.predict(test_bows_greetings)\n",
    "first_class_idxs_greetings = np.argwhere(greetings_predict==1)"
   ]
  },
  {
   "cell_type": "markdown",
   "id": "2e05683d",
   "metadata": {},
   "source": [
    "<b> Обучим классификатор для прощаний, сделаем прогноз для тестовой выборки и выведем прогнозируемые классификатором реплики прощаний"
   ]
  },
  {
   "cell_type": "code",
   "execution_count": 36,
   "id": "4d2abda8",
   "metadata": {},
   "outputs": [
    {
     "data": {
      "text/html": [
       "<style>#sk-container-id-2 {color: black;background-color: white;}#sk-container-id-2 pre{padding: 0;}#sk-container-id-2 div.sk-toggleable {background-color: white;}#sk-container-id-2 label.sk-toggleable__label {cursor: pointer;display: block;width: 100%;margin-bottom: 0;padding: 0.3em;box-sizing: border-box;text-align: center;}#sk-container-id-2 label.sk-toggleable__label-arrow:before {content: \"▸\";float: left;margin-right: 0.25em;color: #696969;}#sk-container-id-2 label.sk-toggleable__label-arrow:hover:before {color: black;}#sk-container-id-2 div.sk-estimator:hover label.sk-toggleable__label-arrow:before {color: black;}#sk-container-id-2 div.sk-toggleable__content {max-height: 0;max-width: 0;overflow: hidden;text-align: left;background-color: #f0f8ff;}#sk-container-id-2 div.sk-toggleable__content pre {margin: 0.2em;color: black;border-radius: 0.25em;background-color: #f0f8ff;}#sk-container-id-2 input.sk-toggleable__control:checked~div.sk-toggleable__content {max-height: 200px;max-width: 100%;overflow: auto;}#sk-container-id-2 input.sk-toggleable__control:checked~label.sk-toggleable__label-arrow:before {content: \"▾\";}#sk-container-id-2 div.sk-estimator input.sk-toggleable__control:checked~label.sk-toggleable__label {background-color: #d4ebff;}#sk-container-id-2 div.sk-label input.sk-toggleable__control:checked~label.sk-toggleable__label {background-color: #d4ebff;}#sk-container-id-2 input.sk-hidden--visually {border: 0;clip: rect(1px 1px 1px 1px);clip: rect(1px, 1px, 1px, 1px);height: 1px;margin: -1px;overflow: hidden;padding: 0;position: absolute;width: 1px;}#sk-container-id-2 div.sk-estimator {font-family: monospace;background-color: #f0f8ff;border: 1px dotted black;border-radius: 0.25em;box-sizing: border-box;margin-bottom: 0.5em;}#sk-container-id-2 div.sk-estimator:hover {background-color: #d4ebff;}#sk-container-id-2 div.sk-parallel-item::after {content: \"\";width: 100%;border-bottom: 1px solid gray;flex-grow: 1;}#sk-container-id-2 div.sk-label:hover label.sk-toggleable__label {background-color: #d4ebff;}#sk-container-id-2 div.sk-serial::before {content: \"\";position: absolute;border-left: 1px solid gray;box-sizing: border-box;top: 0;bottom: 0;left: 50%;z-index: 0;}#sk-container-id-2 div.sk-serial {display: flex;flex-direction: column;align-items: center;background-color: white;padding-right: 0.2em;padding-left: 0.2em;position: relative;}#sk-container-id-2 div.sk-item {position: relative;z-index: 1;}#sk-container-id-2 div.sk-parallel {display: flex;align-items: stretch;justify-content: center;background-color: white;position: relative;}#sk-container-id-2 div.sk-item::before, #sk-container-id-2 div.sk-parallel-item::before {content: \"\";position: absolute;border-left: 1px solid gray;box-sizing: border-box;top: 0;bottom: 0;left: 50%;z-index: -1;}#sk-container-id-2 div.sk-parallel-item {display: flex;flex-direction: column;z-index: 1;position: relative;background-color: white;}#sk-container-id-2 div.sk-parallel-item:first-child::after {align-self: flex-end;width: 50%;}#sk-container-id-2 div.sk-parallel-item:last-child::after {align-self: flex-start;width: 50%;}#sk-container-id-2 div.sk-parallel-item:only-child::after {width: 0;}#sk-container-id-2 div.sk-dashed-wrapped {border: 1px dashed gray;margin: 0 0.4em 0.5em 0.4em;box-sizing: border-box;padding-bottom: 0.4em;background-color: white;}#sk-container-id-2 div.sk-label label {font-family: monospace;font-weight: bold;display: inline-block;line-height: 1.2em;}#sk-container-id-2 div.sk-label-container {text-align: center;}#sk-container-id-2 div.sk-container {/* jupyter's `normalize.less` sets `[hidden] { display: none; }` but bootstrap.min.css set `[hidden] { display: none !important; }` so we also need the `!important` here to be able to override the default hidden behavior on the sphinx rendered scikit-learn.org. See: https://github.com/scikit-learn/scikit-learn/issues/21755 */display: inline-block !important;position: relative;}#sk-container-id-2 div.sk-text-repr-fallback {display: none;}</style><div id=\"sk-container-id-2\" class=\"sk-top-container\"><div class=\"sk-text-repr-fallback\"><pre>LogisticRegression()</pre><b>In a Jupyter environment, please rerun this cell to show the HTML representation or trust the notebook. <br />On GitHub, the HTML representation is unable to render, please try loading this page with nbviewer.org.</b></div><div class=\"sk-container\" hidden><div class=\"sk-item\"><div class=\"sk-estimator sk-toggleable\"><input class=\"sk-toggleable__control sk-hidden--visually\" id=\"sk-estimator-id-2\" type=\"checkbox\" checked><label for=\"sk-estimator-id-2\" class=\"sk-toggleable__label sk-toggleable__label-arrow\">LogisticRegression</label><div class=\"sk-toggleable__content\"><pre>LogisticRegression()</pre></div></div></div></div></div>"
      ],
      "text/plain": [
       "LogisticRegression()"
      ]
     },
     "execution_count": 36,
     "metadata": {},
     "output_type": "execute_result"
    }
   ],
   "source": [
    "clf.fit(X_train_byes, y_train_byes)"
   ]
  },
  {
   "cell_type": "code",
   "execution_count": 37,
   "id": "533276fd",
   "metadata": {},
   "outputs": [],
   "source": [
    "byes_predict = clf.predict(test_bows_byes)\n",
    "first_class_idxs_byes = np.argwhere(byes_predict==1)"
   ]
  },
  {
   "cell_type": "markdown",
   "id": "3a9170b4",
   "metadata": {},
   "source": [
    "<b> Создадим DataFrame с результатами, в котором будет полное признаковое описание, текст реплики, номер диалога, прогнозируемый класс и реальный класс, размеченный вручную, для вывода реплик приветствия и прощания и расчёта метрик качества классификации."
   ]
  },
  {
   "cell_type": "code",
   "execution_count": 38,
   "id": "6dd1c489",
   "metadata": {},
   "outputs": [],
   "source": [
    "true_classes_g = [0]*len(test_bows_greetings)\n",
    "for i in ind_of_greet_true:\n",
    "    true_classes_g[i] = 1\n",
    "\n",
    "true_classes_b = [0]*len(test_bows_byes)\n",
    "for i in ind_of_byes_true:\n",
    "    true_classes_b[i] = 1"
   ]
  },
  {
   "cell_type": "code",
   "execution_count": 39,
   "id": "2184ed02",
   "metadata": {},
   "outputs": [],
   "source": [
    "test_predict_greetings = pd.DataFrame(data = test_bows_greetings)\n",
    "test_predict_greetings['predicted_class'] = greetings_predict\n",
    "test_predict_greetings['true_class'] = true_classes_g\n",
    "test_predict_greetings['dlg_id'] = test_dlg_ids_g\n",
    "test_predict_greetings['text'] = start_replicas_df['text']"
   ]
  },
  {
   "cell_type": "markdown",
   "id": "a0247f9c",
   "metadata": {},
   "source": [
    "### Создадим DataFrame для хранения результатов парсинга"
   ]
  },
  {
   "cell_type": "code",
   "execution_count": 40,
   "id": "a6ec7b0f",
   "metadata": {},
   "outputs": [],
   "source": [
    "columns = ['dlg_id', 'greeting', 'bye', 'greeting_and_bye_condition', 'introduce_replica' ,'name', 'company']\n",
    "\n",
    "df_parsing_result = pd.DataFrame(columns = columns)\n",
    "df_parsing_result['dlg_id'] = df['dlg_id'].unique()\n",
    "df_parsing_result = df_parsing_result.set_index('dlg_id')\n",
    "\n",
    "greetings_dict = {}\n",
    "byes_dict = {}\n",
    "names_dict = {}\n",
    "companies_dict = {}\n",
    "introduce_dict = {}"
   ]
  },
  {
   "cell_type": "markdown",
   "id": "018080de",
   "metadata": {},
   "source": [
    "<b> Создадим удобную функцию для пополнение словарей, из которых составим итоговую таблицу результатов парсинга диалогов"
   ]
  },
  {
   "cell_type": "code",
   "execution_count": 41,
   "id": "e8e32be5",
   "metadata": {},
   "outputs": [],
   "source": [
    "def update_dict(name, key, value):\n",
    "    if name == \"greetings\":\n",
    "        if key not in greetings_dict.keys():\n",
    "            greetings_dict[key] = [value]\n",
    "        else:\n",
    "            greetings_dict[key].append(value)\n",
    "    if name == \"byes\":\n",
    "        if key not in byes_dict.keys():\n",
    "            byes_dict[key] = [value]\n",
    "        else:\n",
    "            byes_dict[key].append(value)\n",
    "    if name == \"names\":\n",
    "        if key not in names_dict.keys():\n",
    "            names_dict[key] = [value]\n",
    "        else:\n",
    "            names_dict[key].append(value)\n",
    "    if name == \"companies\":\n",
    "        if key not in companies_dict.keys():\n",
    "            companies_dict[key] = [value]\n",
    "        else:\n",
    "            companies_dict[key].append(value)\n",
    "    if name == \"introduce\":\n",
    "        if key not in introduce_dict.keys():\n",
    "            introduce_dict[key] = [value]\n",
    "        else:\n",
    "            introduce_dict[key].append(value)"
   ]
  },
  {
   "cell_type": "markdown",
   "id": "3f825eaf",
   "metadata": {},
   "source": [
    "## Задание а. Извлекать реплики с приветствием – где менеджер поздоровался.\n"
   ]
  },
  {
   "cell_type": "code",
   "execution_count": 42,
   "id": "c7b9d725",
   "metadata": {},
   "outputs": [
    {
     "name": "stdout",
     "output_type": "stream",
     "text": [
      "Задание а. Извлекать реплики с приветствием – где менеджер поздоровался.\n",
      "\n",
      "В диалоге 0 менеджер поздоровался.\n",
      "Реплика \"Алло здравствуйте\"\n",
      "\n",
      "В диалоге 1 менеджер поздоровался.\n",
      "Реплика \"Алло здравствуйте\"\n",
      "\n",
      "В диалоге 2 менеджер поздоровался.\n",
      "Реплика \"Алло здравствуйте\"\n",
      "\n",
      "В диалоге 3 менеджер поздоровался.\n",
      "Реплика \"Алло дмитрий добрый день\"\n",
      "\n",
      "В диалоге 3 менеджер поздоровался.\n",
      "Реплика \"Добрый меня максим зовут компания китобизнес удобно говорить\"\n",
      "\n"
     ]
    }
   ],
   "source": [
    "print('Задание а. Извлекать реплики с приветствием – где менеджер поздоровался.\\n')\n",
    "first_class_predicted_greetings_df = test_predict_greetings[test_predict_greetings['predicted_class'] == 1]\n",
    "for index, row in first_class_predicted_greetings_df.iterrows():\n",
    "    print(f'В диалоге {row.dlg_id} менеджер поздоровался.' + \"\\n\" + f'Реплика \"{row.text}\"\\n')\n",
    "    update_dict(\"greetings\", row.dlg_id, row.text)"
   ]
  },
  {
   "cell_type": "code",
   "execution_count": 43,
   "id": "2f33e537",
   "metadata": {},
   "outputs": [],
   "source": [
    "test_predict_byes = pd.DataFrame(data = test_bows_byes)\n",
    "test_predict_byes['predicted_class'] = byes_predict\n",
    "test_predict_byes['true_class'] = true_classes_b\n",
    "test_predict_byes['dlg_id'] = test_dlg_ids_b\n",
    "test_predict_byes['text'] = end_replicas_df['text']"
   ]
  },
  {
   "cell_type": "markdown",
   "id": "f65631c8",
   "metadata": {},
   "source": [
    "## Задание e. Извлекать реплики, где менеджер попрощался.\n"
   ]
  },
  {
   "cell_type": "code",
   "execution_count": 44,
   "id": "c22e1c40",
   "metadata": {},
   "outputs": [
    {
     "name": "stdout",
     "output_type": "stream",
     "text": [
      "Задание e. Извлекать реплики, где менеджер попрощался.\n",
      "\n",
      "В диалоге 0 менеджер попрощался.\n",
      "Реплика \"Всего хорошего до свидания\"\n",
      "\n",
      "В диалоге 1 менеджер попрощался.\n",
      "Реплика \"Угу да вижу я эту почту хорошо тогда исправлю на эту будем ждать ответа всего хорошего\"\n",
      "\n",
      "В диалоге 1 менеджер попрощался.\n",
      "Реплика \"До свидания\"\n",
      "\n",
      "В диалоге 3 менеджер попрощался.\n",
      "Реплика \"Угу все хорошо да понедельника тогда всего доброго\"\n",
      "\n",
      "В диалоге 4 менеджер попрощался.\n",
      "Реплика \"Во вторник все ну с вами да тогда до вторника до свидания\"\n",
      "\n",
      "В диалоге 5 менеджер попрощался.\n",
      "Реплика \"Ну до свидания хорошего вечера\"\n",
      "\n"
     ]
    }
   ],
   "source": [
    "print('Задание e. Извлекать реплики, где менеджер попрощался.\\n')\n",
    "first_class_predicted_byes_df = test_predict_byes[test_predict_byes['predicted_class'] == 1]\n",
    "for index, row in first_class_predicted_byes_df.iterrows():\n",
    "    print(f'В диалоге {row.dlg_id} менеджер попрощался.' + \"\\n\" + f'Реплика \"{row.text}\"\\n')\n",
    "    update_dict(\"byes\", row.dlg_id, row.text)"
   ]
  },
  {
   "cell_type": "code",
   "execution_count": 45,
   "id": "045ef45a",
   "metadata": {},
   "outputs": [],
   "source": [
    "greetings_dlg_ids = test_predict_greetings[test_predict_greetings['predicted_class']==1]['dlg_id'].unique()"
   ]
  },
  {
   "cell_type": "code",
   "execution_count": 46,
   "id": "8f599f0c",
   "metadata": {},
   "outputs": [],
   "source": [
    "byes_dlg_ids = test_predict_byes[test_predict_byes['predicted_class']==1]['dlg_id'].unique()"
   ]
  },
  {
   "cell_type": "code",
   "execution_count": 47,
   "id": "23451a36",
   "metadata": {},
   "outputs": [],
   "source": [
    "greeting_and_bye_ids = [i for i in greetings_dlg_ids if i in byes_dlg_ids]\n",
    "only_greeting_ids = [i for i in greetings_dlg_ids if i not in byes_dlg_ids]\n",
    "only_byes_ids = [i for i in byes_dlg_ids if i not in greetings_dlg_ids]"
   ]
  },
  {
   "cell_type": "markdown",
   "id": "eed8818a",
   "metadata": {},
   "source": [
    "## Задание f. Проверять требование к менеджеру: «В каждом диалоге обязательно необходимо поздороваться и попрощаться с клиентом»\n"
   ]
  },
  {
   "cell_type": "code",
   "execution_count": 48,
   "id": "e0e84a0d",
   "metadata": {
    "scrolled": true
   },
   "outputs": [
    {
     "name": "stdout",
     "output_type": "stream",
     "text": [
      "Задание f. Проверять требование к менеджеру: «В каждом диалоге обязательно необходимо поздороваться и попрощаться с клиентом»\n",
      "\n",
      "Менеджер в диалоге 0 поздоровался и попрощался.\n",
      "\n",
      "Менеджер в диалоге 1 поздоровался и попрощался.\n",
      "\n",
      "Менеджер в диалоге 3 поздоровался и попрощался.\n",
      "\n",
      "Менеджер в диалоге 2 только поздоровался.\n",
      "\n",
      "Менеджер в диалоге 4 только попрощался.\n",
      "\n",
      "Менеджер в диалоге 5 только попрощался.\n",
      "\n"
     ]
    }
   ],
   "source": [
    "print('Задание f. Проверять требование к менеджеру: «В каждом диалоге обязательно необходимо поздороваться и попрощаться с клиентом»\\n')\n",
    "\n",
    "for dlg_id in greeting_and_bye_ids:\n",
    "    print(f'Менеджер в диалоге {dlg_id} поздоровался и попрощался.\\n')\n",
    "for dlg_id in only_greeting_ids:\n",
    "    print(f'Менеджер в диалоге {dlg_id} только поздоровался.\\n')\n",
    "for dlg_id in only_byes_ids:\n",
    "    print(f'Менеджер в диалоге {dlg_id} только попрощался.\\n')"
   ]
  },
  {
   "cell_type": "markdown",
   "id": "1c592886",
   "metadata": {},
   "source": [
    "<b> Посчитаем метрики качества для получившихся классификаторов."
   ]
  },
  {
   "cell_type": "code",
   "execution_count": 49,
   "id": "46751746",
   "metadata": {},
   "outputs": [],
   "source": [
    "from sklearn.metrics import precision_score\n",
    "from sklearn.metrics import recall_score\n",
    "from sklearn.metrics import f1_score"
   ]
  },
  {
   "cell_type": "code",
   "execution_count": 50,
   "id": "4fd00d15",
   "metadata": {},
   "outputs": [],
   "source": [
    "recall_byes = recall_score(test_predict_byes['true_class'], test_predict_byes['predicted_class'])\n",
    "precision_byes = precision_score(test_predict_byes['true_class'], test_predict_byes['predicted_class'])\n",
    "f_measure_byes = f1_score(test_predict_byes['true_class'], test_predict_byes['predicted_class'])\n",
    "\n",
    "\n",
    "recall_greetings = recall_score(test_predict_greetings['true_class'], test_predict_greetings['predicted_class'])\n",
    "precision_greetings = precision_score(test_predict_greetings['true_class'], test_predict_greetings['predicted_class'])\n",
    "f_measure_greetings = f1_score(test_predict_greetings['true_class'], test_predict_greetings['predicted_class'])\n"
   ]
  },
  {
   "cell_type": "markdown",
   "id": "2a074f81",
   "metadata": {},
   "source": [
    "### Метрики качества классификаторов для задач классификации для приветсвий и прощаний."
   ]
  },
  {
   "cell_type": "code",
   "execution_count": 51,
   "id": "9ffa9b70",
   "metadata": {},
   "outputs": [
    {
     "name": "stdout",
     "output_type": "stream",
     "text": [
      "Выведем метрики качества для классификации приветсвий и прощаний: \n",
      "\n",
      "Recall для прощаний: 1.0, Precision для прощаний: 1.0, F-measure для прощаний: 1.0\n",
      "\n",
      "Recall для приветствий: 1.0, Precision для приветствий: 1.0, F-measure для приветствий: 1.0\n",
      "\n"
     ]
    }
   ],
   "source": [
    "print('Выведем метрики качества для классификации приветсвий и прощаний: \\n')\n",
    "print('Recall для прощаний: {0}, Precision для прощаний: {1}, F-measure для прощаний: {2}\\n'.format(recall_byes, precision_byes, f_measure_byes))\n",
    "print('Recall для приветствий: {0}, Precision для приветствий: {1}, F-measure для приветствий: {2}\\n'.format(recall_greetings, precision_greetings, f_measure_greetings))"
   ]
  },
  {
   "cell_type": "markdown",
   "id": "d5f62978",
   "metadata": {},
   "source": [
    "<b> Создадим функцию для преобразования текста в список частей речи с помощью библиотеки Natasha"
   ]
  },
  {
   "cell_type": "code",
   "execution_count": 52,
   "id": "b2cd3065",
   "metadata": {},
   "outputs": [],
   "source": [
    "from natasha import (\n",
    "    Segmenter,\n",
    "    MorphVocab,\n",
    "    \n",
    "    NewsEmbedding,\n",
    "    NewsMorphTagger,\n",
    "    NewsSyntaxParser,\n",
    "    NewsNERTagger,\n",
    "    \n",
    "    PER,\n",
    "    NamesExtractor,\n",
    "\n",
    "    Doc\n",
    ")\n",
    "\n",
    "\n",
    "def text_to_POS_dict(text):\n",
    "    segmenter = Segmenter()\n",
    "    morph_vocab = MorphVocab()\n",
    "\n",
    "    emb = NewsEmbedding()\n",
    "    morph_tagger = NewsMorphTagger(emb)\n",
    "    syntax_parser = NewsSyntaxParser(emb)\n",
    "    ner_tagger = NewsNERTagger(emb)\n",
    "\n",
    "    names_extractor = NamesExtractor(morph_vocab)\n",
    "    doc = Doc(text)\n",
    "\n",
    "    doc.segment(segmenter)\n",
    "\n",
    "    doc.tag_morph(morph_tagger)\n",
    "    \n",
    "    POS_list = []\n",
    "    for i in np.arange(len(text.split())):\n",
    "        POS_list.append(doc.sents[0].morph.as_json['tokens'][i].pos)\n",
    "    word_list = text.split()\n",
    "    return dict(zip(word_list, POS_list))"
   ]
  },
  {
   "cell_type": "markdown",
   "id": "0d3f563e",
   "metadata": {},
   "source": [
    "<b> Создадим словарь всех имён. Для это воспользуемся списком уникальных российских имён (включает не только русские имена, но и арабские, армянские, грузинские, немецкие, греческие, еврейские, польские и тюркские на русском языке) \n",
    "    \n",
    "Источник (Портал открытых данных правительства Москвы): \n",
    "\n",
    "https://data.mos.ru/opendata/7704111479-svedeniya-o-naibolee-populyarnyh-mujskih-imenah-sredi-novorojdennyh\n",
    "\n",
    "https://data.mos.ru/opendata/7704111479-svedeniya-o-naibolee-populyarnyh-jenskih-imenah-sredi-novorojdennyh"
   ]
  },
  {
   "cell_type": "code",
   "execution_count": 53,
   "id": "b9f28611",
   "metadata": {},
   "outputs": [
    {
     "name": "stderr",
     "output_type": "stream",
     "text": [
      "C:\\Users\\gleko\\AppData\\Local\\Packages\\PythonSoftwareFoundation.Python.3.10_qbz5n2kfra8p0\\LocalCache\\local-packages\\Python310\\site-packages\\openpyxl\\styles\\stylesheet.py:226: UserWarning: Workbook contains no default style, apply openpyxl's default\n",
      "  warn(\"Workbook contains no default style, apply openpyxl's default\")\n",
      "C:\\Users\\gleko\\AppData\\Local\\Packages\\PythonSoftwareFoundation.Python.3.10_qbz5n2kfra8p0\\LocalCache\\local-packages\\Python310\\site-packages\\openpyxl\\styles\\stylesheet.py:226: UserWarning: Workbook contains no default style, apply openpyxl's default\n",
      "  warn(\"Workbook contains no default style, apply openpyxl's default\")\n"
     ]
    }
   ],
   "source": [
    "female_names = pd.read_excel('./data_for_name_recognition/female_names.xlsx')\n",
    "male_names = pd.read_excel('./data_for_name_recognition/male_names.xlsx')\n",
    "\n",
    "female_names_list = female_names['Name'][1::]\n",
    "male_names_list = male_names['Name'][1::]\n",
    "names = pd.concat([female_names_list, male_names_list]).values\n",
    "names = [name.lower() for name in names]"
   ]
  },
  {
   "cell_type": "markdown",
   "id": "e5224a0d",
   "metadata": {},
   "source": [
    "## Задание b и c. Извлекать реплики, где менеджер представил себя, извлекать имя менеджера.\n",
    "\n"
   ]
  },
  {
   "cell_type": "markdown",
   "id": "43417df0",
   "metadata": {},
   "source": [
    "<b> Выведем реплики с представлением себя менеджером по всем диалогам"
   ]
  },
  {
   "cell_type": "code",
   "execution_count": 54,
   "id": "dc6ef5c4",
   "metadata": {},
   "outputs": [
    {
     "name": "stdout",
     "output_type": "stream",
     "text": [
      "Задание b и c. Извлекать реплики, где менеджер представил себя, извлекать имя менеджера.\n",
      "\n",
      "В диалоге 0 менеджер Ангелина представился.\n",
      "Реплика: \"Меня зовут ангелина компания диджитал бизнес звоним вам по поводу продления лицензии а мы с серым у вас скоро срок заканчивается\"\n",
      "\n",
      "В диалоге 1 менеджер Ангелина представился.\n",
      "Реплика: \"Меня зовут ангелина компания диджитал бизнес звоню вам по поводу продления а мы сели обратила внимание что у вас срок заканчивается\"\n",
      "\n",
      "В диалоге 2 менеджер Ангелина представился.\n",
      "Реплика: \"Меня зовут ангелина компания диджитал бизнес звоню вам по поводу продления лицензии а мастера мы с вами сотрудничали по видео там\"\n",
      "\n",
      "В диалоге 3 менеджер Максим представился.\n",
      "Реплика: \"Добрый меня максим зовут компания китобизнес удобно говорить\"\n",
      "\n"
     ]
    }
   ],
   "source": [
    "print('Задание b и c. Извлекать реплики, где менеджер представил себя, извлекать имя менеджера.\\n')\n",
    "introduce_replicas = []\n",
    "manager_names = []\n",
    "introduce_dlg_ids = []\n",
    "for index, row in start_replicas_df.iterrows():\n",
    "    replica = row['text']\n",
    "    words = replica.split()\n",
    "    for word in words:\n",
    "        if (lemmatize(tokenize(word))[0] in names) and (\"зовут\" in replica):\n",
    "            manager_names.append(word)\n",
    "            introduce_replicas.append(replica)\n",
    "            introduce_dlg_ids.append(row['dlg_id'])\n",
    "            print(f'В диалоге {row.dlg_id} менеджер {word.capitalize()} представился.' + \"\\n\" + f'Реплика: \"{replica}\"' + \"\\n\")\n",
    "            update_dict(\"names\", row.dlg_id, word.capitalize())\n",
    "            update_dict(\"introduce\", row.dlg_id, replica)\n",
    "            "
   ]
  },
  {
   "cell_type": "markdown",
   "id": "cbaf8992",
   "metadata": {},
   "source": [
    "<b> Напишем функцию извлечения названия компании из реплики. </b>\n",
    "    \n",
    "- Основана на предположении, о том что, если слово \"компания\" встречается (в любой падежной форме) в стартовой реплике (одной из первых трёх реплик в диалоге с клиентом), то за словом \"компания\" следует название. \n",
    "- Также название компании может содержать несколько слов. В этом случае предполагается, что последовательность слов будет содержать прилагательные (adjective) и существительные (noun). Проверяем это условие с помощью библиотеки Natasha"
   ]
  },
  {
   "cell_type": "code",
   "execution_count": 55,
   "id": "04267c8c",
   "metadata": {},
   "outputs": [],
   "source": [
    "def extract_name_of_company(replica):\n",
    "    name_of_company = []\n",
    "    dict_of_POS = text_to_POS_dict(replica)\n",
    "    words = replica.split()\n",
    "    lemmas = lemmatize(tokenize(replica))\n",
    "    \n",
    "    if 'компания' in lemmas:\n",
    "        ind_of_company = lemmas.index('компания')\n",
    "        \n",
    "        if ind_of_company + 1 < len(words):\n",
    "            name_of_company.append(words[ind_of_company + 1])\n",
    "            ind = ind_of_company + 1\n",
    "            \n",
    "            while dict_of_POS[words[ind + 1]] in ['ADV', 'NOUN']:\n",
    "                name_of_company.append(words[ind + 1])\n",
    "                ind += 1\n",
    "                \n",
    "    return name_of_company"
   ]
  },
  {
   "cell_type": "markdown",
   "id": "edddfb90",
   "metadata": {},
   "source": [
    "## Задание d. Извлекать название компании.\n",
    "\n"
   ]
  },
  {
   "cell_type": "code",
   "execution_count": 56,
   "id": "6ce467e1",
   "metadata": {},
   "outputs": [
    {
     "name": "stdout",
     "output_type": "stream",
     "text": [
      "Задание d. Извлекать название компании.\n",
      "\n",
      "В диалоге 0 менеджер из компании \"Диджитал бизнес\".\n",
      "Реплика: \"Меня зовут ангелина компания диджитал бизнес звоним вам по поводу продления лицензии а мы с серым у вас скоро срок заканчивается\"\n",
      "\n",
      "В диалоге 1 менеджер из компании \"Диджитал бизнес\".\n",
      "Реплика: \"Меня зовут ангелина компания диджитал бизнес звоню вам по поводу продления а мы сели обратила внимание что у вас срок заканчивается\"\n",
      "\n",
      "В диалоге 2 менеджер из компании \"Диджитал бизнес\".\n",
      "Реплика: \"Меня зовут ангелина компания диджитал бизнес звоню вам по поводу продления лицензии а мастера мы с вами сотрудничали по видео там\"\n",
      "\n",
      "В диалоге 3 менеджер из компании \"Китобизнес\".\n",
      "Реплика: \"Добрый меня максим зовут компания китобизнес удобно говорить\"\n",
      "\n"
     ]
    }
   ],
   "source": [
    "print('Задание d. Извлекать название компании.\\n')\n",
    "company_names = []\n",
    "dlg_ids_cmp_nms = []\n",
    "for index, row in start_replicas_df.iterrows():\n",
    "    replica = row['text']\n",
    "    name_of_company = extract_name_of_company(replica)\n",
    "   \n",
    "                           \n",
    "    if len(name_of_company) > 1:\n",
    "        name_of_company = ' '.join(name_of_company)\n",
    "    if len(name_of_company) == 1:\n",
    "        name_of_company = name_of_company[0]\n",
    "    if len(name_of_company) > 0:\n",
    "        print(f'В диалоге {row.dlg_id} менеджер из компании \"{name_of_company.capitalize()}\".' + \"\\n\" f'Реплика: \"{replica}\"\\n')\n",
    "        company_names.append(name_of_company)\n",
    "        dlg_ids_cmp_nms.append(row['dlg_id'])\n",
    "        update_dict(\"companies\", row.dlg_id, name_of_company.capitalize())\n",
    "\n",
    "    "
   ]
  },
  {
   "cell_type": "code",
   "execution_count": 57,
   "id": "a7b033f8",
   "metadata": {},
   "outputs": [],
   "source": [
    "for dlg_id in df.sort_values(by = 'dlg_id').dlg_id.unique():\n",
    "    greetings = 0 if dlg_id not in greetings_dict.keys() else greetings_dict[dlg_id]\n",
    "    byes = 0 if dlg_id not in byes_dict.keys() else byes_dict[dlg_id]\n",
    "    name = 0 if dlg_id not in names_dict.keys() else names_dict[dlg_id]\n",
    "    introduce = 0 if dlg_id not in introduce_dict.keys() else introduce_dict[dlg_id]\n",
    "    company = 0 if dlg_id not in companies_dict.keys() else companies_dict[dlg_id]\n",
    "    \n",
    "    df_parsing_result.at[dlg_id, 'greeting'] = greetings\n",
    "    df_parsing_result.at[dlg_id, 'bye'] = byes\n",
    "    df_parsing_result.at[dlg_id, 'name'] = name\n",
    "    df_parsing_result.at[dlg_id, 'introduce_replica'] = introduce\n",
    "    df_parsing_result.at[dlg_id, 'company'] = company\n",
    "    \n",
    "    if greetings == 0 or byes == 0:\n",
    "        df_parsing_result.at[dlg_id, 'greeting_and_bye_condition'] = False\n",
    "    else: \n",
    "        df_parsing_result.at[dlg_id, 'greeting_and_bye_condition'] = True\n",
    "        \n",
    "    \n",
    "    "
   ]
  },
  {
   "cell_type": "code",
   "execution_count": 58,
   "id": "fd00a464",
   "metadata": {},
   "outputs": [
    {
     "data": {
      "text/html": [
       "<div>\n",
       "<style scoped>\n",
       "    .dataframe tbody tr th:only-of-type {\n",
       "        vertical-align: middle;\n",
       "    }\n",
       "\n",
       "    .dataframe tbody tr th {\n",
       "        vertical-align: top;\n",
       "    }\n",
       "\n",
       "    .dataframe thead th {\n",
       "        text-align: right;\n",
       "    }\n",
       "</style>\n",
       "<table border=\"1\" class=\"dataframe\">\n",
       "  <thead>\n",
       "    <tr style=\"text-align: right;\">\n",
       "      <th></th>\n",
       "      <th>greeting</th>\n",
       "      <th>bye</th>\n",
       "      <th>greeting_and_bye_condition</th>\n",
       "      <th>introduce_replica</th>\n",
       "      <th>name</th>\n",
       "      <th>company</th>\n",
       "    </tr>\n",
       "    <tr>\n",
       "      <th>dlg_id</th>\n",
       "      <th></th>\n",
       "      <th></th>\n",
       "      <th></th>\n",
       "      <th></th>\n",
       "      <th></th>\n",
       "      <th></th>\n",
       "    </tr>\n",
       "  </thead>\n",
       "  <tbody>\n",
       "    <tr>\n",
       "      <th>0</th>\n",
       "      <td>[Алло здравствуйте]</td>\n",
       "      <td>[Всего хорошего до свидания]</td>\n",
       "      <td>True</td>\n",
       "      <td>[Меня зовут ангелина компания диджитал бизнес звоним вам по поводу продления лицензии а мы с серым у вас скоро срок заканчивается]</td>\n",
       "      <td>[Ангелина]</td>\n",
       "      <td>[Диджитал бизнес]</td>\n",
       "    </tr>\n",
       "    <tr>\n",
       "      <th>1</th>\n",
       "      <td>[Алло здравствуйте]</td>\n",
       "      <td>[Угу да вижу я эту почту хорошо тогда исправлю на эту будем ждать ответа всего хорошего, До свидания]</td>\n",
       "      <td>True</td>\n",
       "      <td>[Меня зовут ангелина компания диджитал бизнес звоню вам по поводу продления а мы сели обратила внимание что у вас срок заканчивается]</td>\n",
       "      <td>[Ангелина]</td>\n",
       "      <td>[Диджитал бизнес]</td>\n",
       "    </tr>\n",
       "    <tr>\n",
       "      <th>2</th>\n",
       "      <td>[Алло здравствуйте]</td>\n",
       "      <td>0</td>\n",
       "      <td>False</td>\n",
       "      <td>[Меня зовут ангелина компания диджитал бизнес звоню вам по поводу продления лицензии а мастера мы с вами сотрудничали по видео там]</td>\n",
       "      <td>[Ангелина]</td>\n",
       "      <td>[Диджитал бизнес]</td>\n",
       "    </tr>\n",
       "    <tr>\n",
       "      <th>3</th>\n",
       "      <td>[Алло дмитрий добрый день, Добрый меня максим зовут компания китобизнес удобно говорить]</td>\n",
       "      <td>[Угу все хорошо да понедельника тогда всего доброго]</td>\n",
       "      <td>True</td>\n",
       "      <td>[Добрый меня максим зовут компания китобизнес удобно говорить]</td>\n",
       "      <td>[Максим]</td>\n",
       "      <td>[Китобизнес]</td>\n",
       "    </tr>\n",
       "    <tr>\n",
       "      <th>4</th>\n",
       "      <td>0</td>\n",
       "      <td>[Во вторник все ну с вами да тогда до вторника до свидания]</td>\n",
       "      <td>False</td>\n",
       "      <td>0</td>\n",
       "      <td>0</td>\n",
       "      <td>0</td>\n",
       "    </tr>\n",
       "    <tr>\n",
       "      <th>5</th>\n",
       "      <td>0</td>\n",
       "      <td>[Ну до свидания хорошего вечера]</td>\n",
       "      <td>False</td>\n",
       "      <td>0</td>\n",
       "      <td>0</td>\n",
       "      <td>0</td>\n",
       "    </tr>\n",
       "  </tbody>\n",
       "</table>\n",
       "</div>"
      ],
      "text/plain": [
       "                                                                                        greeting  \\\n",
       "dlg_id                                                                                             \n",
       "0                                                                            [Алло здравствуйте]   \n",
       "1                                                                            [Алло здравствуйте]   \n",
       "2                                                                            [Алло здравствуйте]   \n",
       "3       [Алло дмитрий добрый день, Добрый меня максим зовут компания китобизнес удобно говорить]   \n",
       "4                                                                                              0   \n",
       "5                                                                                              0   \n",
       "\n",
       "                                                                                                          bye  \\\n",
       "dlg_id                                                                                                          \n",
       "0                                                                                [Всего хорошего до свидания]   \n",
       "1       [Угу да вижу я эту почту хорошо тогда исправлю на эту будем ждать ответа всего хорошего, До свидания]   \n",
       "2                                                                                                           0   \n",
       "3                                                        [Угу все хорошо да понедельника тогда всего доброго]   \n",
       "4                                                 [Во вторник все ну с вами да тогда до вторника до свидания]   \n",
       "5                                                                            [Ну до свидания хорошего вечера]   \n",
       "\n",
       "       greeting_and_bye_condition  \\\n",
       "dlg_id                              \n",
       "0                            True   \n",
       "1                            True   \n",
       "2                           False   \n",
       "3                            True   \n",
       "4                           False   \n",
       "5                           False   \n",
       "\n",
       "                                                                                                                            introduce_replica  \\\n",
       "dlg_id                                                                                                                                          \n",
       "0          [Меня зовут ангелина компания диджитал бизнес звоним вам по поводу продления лицензии а мы с серым у вас скоро срок заканчивается]   \n",
       "1       [Меня зовут ангелина компания диджитал бизнес звоню вам по поводу продления а мы сели обратила внимание что у вас срок заканчивается]   \n",
       "2         [Меня зовут ангелина компания диджитал бизнес звоню вам по поводу продления лицензии а мастера мы с вами сотрудничали по видео там]   \n",
       "3                                                                              [Добрый меня максим зовут компания китобизнес удобно говорить]   \n",
       "4                                                                                                                                           0   \n",
       "5                                                                                                                                           0   \n",
       "\n",
       "              name            company  \n",
       "dlg_id                                 \n",
       "0       [Ангелина]  [Диджитал бизнес]  \n",
       "1       [Ангелина]  [Диджитал бизнес]  \n",
       "2       [Ангелина]  [Диджитал бизнес]  \n",
       "3         [Максим]       [Китобизнес]  \n",
       "4                0                  0  \n",
       "5                0                  0  "
      ]
     },
     "execution_count": 58,
     "metadata": {},
     "output_type": "execute_result"
    }
   ],
   "source": [
    "pd.options.display.max_colwidth = 200\n",
    "df_parsing_result"
   ]
  },
  {
   "cell_type": "code",
   "execution_count": null,
   "id": "f2bbbcc2",
   "metadata": {},
   "outputs": [],
   "source": []
  }
 ],
 "metadata": {
  "kernelspec": {
   "display_name": "Python 3 (ipykernel)",
   "language": "python",
   "name": "python3"
  },
  "language_info": {
   "codemirror_mode": {
    "name": "ipython",
    "version": 3
   },
   "file_extension": ".py",
   "mimetype": "text/x-python",
   "name": "python",
   "nbconvert_exporter": "python",
   "pygments_lexer": "ipython3",
   "version": "3.10.6"
  }
 },
 "nbformat": 4,
 "nbformat_minor": 5
}
